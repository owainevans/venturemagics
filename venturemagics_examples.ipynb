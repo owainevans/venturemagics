{
 "metadata": {
  "name": ""
 },
 "nbformat": 3,
 "nbformat_minor": 0,
 "worksheets": [
  {
   "cells": [
    {
     "cell_type": "heading",
     "level": 1,
     "metadata": {},
     "source": [
      "Venture IPython Magics"
     ]
    },
    {
     "cell_type": "heading",
     "level": 3,
     "metadata": {},
     "source": [
      "Adding Venture Magics"
     ]
    },
    {
     "cell_type": "markdown",
     "metadata": {},
     "source": [
      "Try VentureMagics by running the script in IPython:"
     ]
    },
    {
     "cell_type": "code",
     "collapsed": false,
     "input": [
      "%run venturemagics.py"
     ],
     "language": "python",
     "metadata": {},
     "outputs": [
      {
       "output_type": "stream",
       "stream": "stdout",
       "text": [
        "loaded VentureMagics with ripl \"ipy_ripl\"\n"
       ]
      }
     ],
     "prompt_number": 1
    },
    {
     "cell_type": "markdown",
     "metadata": {},
     "source": [
      "You can copy the script to your IPython startup directory (to be loaded whenever you start a terminal/notebook): "
     ]
    },
    {
     "cell_type": "code",
     "collapsed": false,
     "input": [
      "# locate your config directory (e.g. ~/.config/ipython/profile_default/startup)\n",
      "ipy_config = !ipython locate config\n",
      "\n",
      "# locate the startup directory and copy script to it\n",
      "ipy_startup = ipy_config[0] + '/profile_default/startup'\n",
      "print 'IPython startup folder:',ipy_startup\n",
      "\n",
      "# !cp [path for script]/venturemagics.py {ipy_startup}\n",
      "\n",
      "\n",
      "# Restart notebook server or IPython terminal\n",
      "# if successful you'll get a 'loaded VentureMagics' message, and autocomplete and a docstring for '%v'\n",
      "%v?"
     ],
     "language": "python",
     "metadata": {},
     "outputs": [
      {
       "output_type": "stream",
       "stream": "stdout",
       "text": [
        "IPython startup folder: /home/owainevans/.config/ipython/profile_default/startup\n"
       ]
      }
     ],
     "prompt_number": 2
    },
    {
     "cell_type": "heading",
     "level": 3,
     "metadata": {},
     "source": [
      "Venture Magics Examples"
     ]
    },
    {
     "cell_type": "markdown",
     "metadata": {},
     "source": [
      "VentureMagics creates a RIPL on IPython startup called <code>ipy_ripl</code>. You can use the RIPL via Python syntax:"
     ]
    },
    {
     "cell_type": "code",
     "collapsed": false,
     "input": [
      "ipy_ripl.assume('k','(beta 1 1)')\n"
     ],
     "language": "python",
     "metadata": {},
     "outputs": [
      {
       "metadata": {},
       "output_type": "pyout",
       "prompt_number": 3,
       "text": [
        "0.35581895698377736"
       ]
      }
     ],
     "prompt_number": 3
    },
    {
     "cell_type": "markdown",
     "metadata": {},
     "source": [
      "You can also use the RIPL via the line magic <code>%v</code>, which can be mixed with Python code within a notebook cell: "
     ]
    },
    {
     "cell_type": "code",
     "collapsed": false,
     "input": [
      "# clear the Venture RIPL\n",
      "%v [clear]\n",
      "# enter the Tricky Coin model\n",
      "%v [assume coin (beta 1 1) ]"
     ],
     "language": "python",
     "metadata": {},
     "outputs": [
      {
       "output_type": "stream",
       "stream": "stdout",
       "text": [
        "[directive_id: 1].  assume coin   =  0.961715585034 \n"
       ]
      },
      {
       "metadata": {},
       "output_type": "pyout",
       "prompt_number": 4,
       "text": [
        "(0.9617155850336079,\n",
        " {'directive_id': 1, 'value': {'type': 'number', 'value': 0.9617155850336079}})"
       ]
      }
     ],
     "prompt_number": 4
    },
    {
     "cell_type": "markdown",
     "metadata": {},
     "source": [
      "The cell magic <code>%%v</code> has to have its own Notebook cell (with no Python mixed in). It takes multi-line input."
     ]
    },
    {
     "cell_type": "code",
     "collapsed": false,
     "input": [
      "%%v\n",
      "[assume is_tricky (flip .1) ]\n",
      "[assume draw_x (lambda () (if is_tricky (flip coin) (flip)  ) ) ]\n",
      "[assume x1 (draw_x) ] \n",
      "[assume x2 (draw_x) ] "
     ],
     "language": "python",
     "metadata": {},
     "outputs": [
      {
       "output_type": "stream",
       "stream": "stdout",
       "text": [
        "[directive_id: 2].  assume is_tricky   =  False \n",
        "[directive_id: 3].  assume draw_x   =  sp \n",
        "[directive_id: 4].  assume x1   =  True \n",
        "[directive_id: 5].  assume x2   =  False \n"
       ]
      },
      {
       "metadata": {},
       "output_type": "pyout",
       "prompt_number": 5,
       "text": [
        "([False, 'sp', True, False],\n",
        " [{'directive_id': 2, 'value': {'type': 'boolean', 'value': False}},\n",
        "  {'directive_id': 3, 'value': {'type': 'sp', 'value': 'sp'}},\n",
        "  {'directive_id': 4, 'value': {'type': 'boolean', 'value': True}},\n",
        "  {'directive_id': 5, 'value': {'type': 'boolean', 'value': False}}])"
       ]
      }
     ],
     "prompt_number": 5
    },
    {
     "cell_type": "markdown",
     "metadata": {},
     "source": [
      "The line magic supports capturing Venture outputs and expanding Python code into Venture. "
     ]
    },
    {
     "cell_type": "code",
     "collapsed": false,
     "input": [
      "%%v\n",
      "[clear]\n",
      "[assume is_tricky (flip .1) ]\n",
      "[assume draw_x (lambda () (if is_tricky (flip coin) (flip)  ) ) ]\n",
      "[assume x1 (draw_x) ] \n",
      "[assume x2 (draw_x) ] \n",
      "[observe x1 true]"
     ],
     "language": "python",
     "metadata": {},
     "outputs": [
      {
       "output_type": "stream",
       "stream": "stdout",
       "text": [
        "[directive_id: 1].  assume is_tricky   =  False \n",
        "[directive_id: 2].  assume draw_x   =  sp \n",
        "[directive_id: 3].  assume x1   =  True \n",
        "[directive_id: 4].  assume x2   =  False \n",
        "[directive_id: 5].  observe x1   =  True \n"
       ]
      },
      {
       "metadata": {},
       "output_type": "pyout",
       "prompt_number": 6,
       "text": [
        "([False, 'sp', True, False, True],\n",
        " [{},\n",
        "  {'directive_id': 1, 'value': {'type': 'boolean', 'value': False}},\n",
        "  {'directive_id': 2, 'value': {'type': 'sp', 'value': 'sp'}},\n",
        "  {'directive_id': 3, 'value': {'type': 'boolean', 'value': False}},\n",
        "  {'directive_id': 4, 'value': {'type': 'boolean', 'value': False}},\n",
        "  {'directive_id': 5}])"
       ]
      }
     ],
     "prompt_number": 6
    },
    {
     "cell_type": "code",
     "collapsed": false,
     "input": [
      "# Pull Venture variables\n",
      "out,_ = %v [assume coin_weight (beta 1 1) ]\n",
      "print 'coin_weight is: ', out"
     ],
     "language": "python",
     "metadata": {},
     "outputs": [
      {
       "output_type": "stream",
       "stream": "stdout",
       "text": [
        "[directive_id: 6].  assume coin_weight   =  0.508164092602 \n",
        "coin_weight is:  0.508164092602\n"
       ]
      }
     ],
     "prompt_number": 7
    },
    {
     "cell_type": "code",
     "collapsed": false,
     "input": [
      "# Expand Python code into Venture syntax\n",
      "import numpy as np\n",
      "randint = np.random.randint\n",
      "normal_draw,_ = %v [predict (normal {randint(10**2)} .5) ]\n",
      "print 'normal_draw: ', normal_draw\n",
      "\n",
      "\n",
      "# convert lists from Python to Venture\n",
      "\n",
      "args_convert = lambda lst: str(lst)[1:-1].replace(',','')\n",
      "%v [predict (list {args_convert(range(20))} ) ]\n",
      "None"
     ],
     "language": "python",
     "metadata": {},
     "outputs": [
      {
       "output_type": "stream",
       "stream": "stdout",
       "text": [
        "[directive_id: 7].  predict (normal ... )   =  31.6950587123 \n",
        "normal_draw: "
       ]
      },
      {
       "output_type": "stream",
       "stream": "stdout",
       "text": [
        " 31.6950587123\n",
        "[directive_id: 8].  predict (list ... )   =  [0.0, 1.0, 2.0, 3.0, 4.0, 5.0, 6.0, 7.0, 8.0, 9.0, 10.0, 11.0, 12.0, 13.0, 14.0, 15.0, 16.0, 17.0, 18.0, 19.0] "
       ]
      },
      {
       "output_type": "stream",
       "stream": "stdout",
       "text": [
        "\n"
       ]
      }
     ],
     "prompt_number": 8
    },
    {
     "cell_type": "code",
     "collapsed": false,
     "input": [
      "# We can expand loop variables into %v lines.\n",
      "beta = np.random.beta\n",
      "l=randint(100)\n",
      "\n",
      "for name in ['coin_'+str(i) for i in range(l,l+4) ]:\n",
      "    # create a coin variable and flip it\n",
      "    %v [assume {name} {beta(1,1)} ]\n",
      "    %v [assume  x{randint(1000)}  (flip {name})  ]\n",
      "\n",
      "# It doesn't work to capture these variables (because of indentation)"
     ],
     "language": "python",
     "metadata": {},
     "outputs": [
      {
       "output_type": "stream",
       "stream": "stdout",
       "text": [
        "[directive_id: 9].  assume coin_4   =  0.148403133674 \n",
        "[directive_id: 10].  assume x634   =  False "
       ]
      },
      {
       "output_type": "stream",
       "stream": "stdout",
       "text": [
        "\n",
        "[directive_id: 11].  assume coin_5   =  0.692974731533 "
       ]
      },
      {
       "output_type": "stream",
       "stream": "stdout",
       "text": [
        "\n",
        "[directive_id: 12].  assume x270   =  True "
       ]
      },
      {
       "output_type": "stream",
       "stream": "stdout",
       "text": [
        "\n",
        "[directive_id: 13].  assume coin_6   =  0.457293691133 "
       ]
      },
      {
       "output_type": "stream",
       "stream": "stdout",
       "text": [
        "\n",
        "[directive_id: 14].  assume x973   =  True "
       ]
      },
      {
       "output_type": "stream",
       "stream": "stdout",
       "text": [
        "\n",
        "[directive_id: 15].  assume coin_7   =  0.30850529068 "
       ]
      },
      {
       "output_type": "stream",
       "stream": "stdout",
       "text": [
        "\n",
        "[directive_id: 16].  assume x764   =  False "
       ]
      },
      {
       "output_type": "stream",
       "stream": "stdout",
       "text": [
        "\n"
       ]
      }
     ],
     "prompt_number": 9
    },
    {
     "cell_type": "code",
     "collapsed": false,
     "input": [
      "%%v\n",
      "[assume repeat (lambda (f n) (if (= n 0) (list) \n",
      "                              (pair (f) (repeat f (- n 1) ) )  ) ) ]"
     ],
     "language": "python",
     "metadata": {},
     "outputs": [
      {
       "output_type": "stream",
       "stream": "stdout",
       "text": [
        "[directive_id: 17].  assume repeat   =  sp \n"
       ]
      },
      {
       "metadata": {},
       "output_type": "pyout",
       "prompt_number": 10,
       "text": [
        "(['sp'], [{'directive_id': 17, 'value': {'type': 'sp', 'value': 'sp'}}])"
       ]
      }
     ],
     "prompt_number": 10
    },
    {
     "cell_type": "code",
     "collapsed": false,
     "input": [
      "ls,_ = %v [assume ls (repeat flip 3) ]"
     ],
     "language": "python",
     "metadata": {},
     "outputs": [
      {
       "output_type": "stream",
       "stream": "stdout",
       "text": [
        "[directive_id: 18].  assume ls   =  [False, True, True] \n"
       ]
      }
     ],
     "prompt_number": 11
    },
    {
     "cell_type": "code",
     "collapsed": false,
     "input": [
      "%v [assume f (mem (lambda () (bernoulli) ) )]\n",
      "%v [predict (repeat f 10)]\n",
      "None"
     ],
     "language": "python",
     "metadata": {},
     "outputs": [
      {
       "output_type": "stream",
       "stream": "stdout",
       "text": [
        "[directive_id: 19].  assume f   =  sp \n",
        "[directive_id: 20].  predict (repeat ... )   =  [False, False, False, False, False, False, False, False, False, False] "
       ]
      },
      {
       "output_type": "stream",
       "stream": "stdout",
       "text": [
        "\n"
       ]
      }
     ],
     "prompt_number": 12
    },
    {
     "cell_type": "code",
     "collapsed": false,
     "input": [],
     "language": "python",
     "metadata": {},
     "outputs": []
    }
   ],
   "metadata": {}
  }
 ]
}