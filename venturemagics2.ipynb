{
 "metadata": {
  "name": "venturemagics2"
 },
 "nbformat": 3,
 "nbformat_minor": 0,
 "worksheets": [
  {
   "cells": [
    {
     "cell_type": "heading",
     "level": 1,
     "metadata": {},
     "source": "Venture IPython Magics"
    },
    {
     "cell_type": "heading",
     "level": 3,
     "metadata": {},
     "source": "Adding Venture Magics"
    },
    {
     "cell_type": "markdown",
     "metadata": {},
     "source": "You can try the magic by simply running <code>venturemagics2.py</code> in the notebook. To permamently add the magic, you need to copy the script into your IPython startup directory: "
    },
    {
     "cell_type": "code",
     "collapsed": false,
     "input": "# locate config directory (e.g. ~/.config/ipython/profile_default/startup)\nipy_config = !ipython locate config\n\n# then locate the startup directory and copy script to it\nipy_startup = ipy_config[0] + 'profile_default/startup'\nprint 'IPython startup folder:',ipy_startup\n#!cp [path for script]/venturemagics2.py {ipy_startup}\n\n\n# restart notebook or IPython terminal\n# if successful you'll get autocomplete and a docstring for '%v'\n%v?",
     "language": "python",
     "metadata": {},
     "outputs": [
      {
       "output_type": "stream",
       "stream": "stdout",
       "text": "IPython startup folder: /home/owainevans/.config/ipythonprofile_default/startup\n"
      }
     ],
     "prompt_number": 1
    },
    {
     "cell_type": "heading",
     "level": 3,
     "metadata": {},
     "source": "Venture Magics Examples"
    },
    {
     "cell_type": "markdown",
     "metadata": {},
     "source": "VentureMagics creates a RIPL on IPython startup called <code>ipy_ripl</code>. You can use the RIPL via Python syntax:"
    },
    {
     "cell_type": "code",
     "collapsed": false,
     "input": "ipy_ripl.assume('coin','(beta 1 1)')",
     "language": "python",
     "metadata": {},
     "outputs": [
      {
       "metadata": {},
       "output_type": "pyout",
       "prompt_number": 2,
       "text": "0.5326490953939846"
      }
     ],
     "prompt_number": 2
    },
    {
     "cell_type": "markdown",
     "metadata": {},
     "source": "You can also use the RIPL via the line magic <code>%v</code>, which can be mixed with Python code within a notebook cell: "
    },
    {
     "cell_type": "code",
     "collapsed": false,
     "input": "# clear the Venture RIPL\n%v [clear]\n# enter the Tricky Coin model\n%v [assume coin (beta 1 1) ]",
     "language": "python",
     "metadata": {},
     "outputs": [
      {
       "output_type": "stream",
       "stream": "stdout",
       "text": "[directive_id: 1].  assume coin   =  0.755628689239 \n"
      },
      {
       "metadata": {},
       "output_type": "pyout",
       "prompt_number": 3,
       "text": "{'directive_id': 1, 'value': {'type': 'number', 'value': 0.7556286892390012}}"
      }
     ],
     "prompt_number": 3
    },
    {
     "cell_type": "markdown",
     "metadata": {},
     "source": "The cell magic <code>%%v</code> has to have its own Notebook cell (with no Python mixed in). It takes multi-line input."
    },
    {
     "cell_type": "code",
     "collapsed": false,
     "input": "%%v\n[assume is_tricky (flip .1) ]\n[assume draw_x (lambda () (if is_tricky (flip coin) (flip)  ) ) ]\n[assume x1 (draw_x) ] \n[assume x2 (draw_x) ] ",
     "language": "python",
     "metadata": {},
     "outputs": [
      {
       "output_type": "stream",
       "stream": "stdout",
       "text": "[directive_id: 2].  assume is_tricky   =  False \n[directive_id: 3].  assume draw_x   =  sp \n[directive_id: 4].  assume x1   =  False \n[directive_id: 5].  assume x2   =  False \n"
      },
      {
       "metadata": {},
       "output_type": "pyout",
       "prompt_number": 4,
       "text": "[{'directive_id': 2, 'value': {'type': 'boolean', 'value': False}},\n {'directive_id': 3, 'value': {'type': 'sp', 'value': 'sp'}},\n {'directive_id': 4, 'value': {'type': 'boolean', 'value': False}},\n {'directive_id': 5, 'value': {'type': 'boolean', 'value': False}}]"
      }
     ],
     "prompt_number": 4
    },
    {
     "cell_type": "markdown",
     "metadata": {},
     "source": "The line magic supports capturing Venture outputs and expanding Python code into Venture. "
    },
    {
     "cell_type": "code",
     "collapsed": false,
     "input": "# Pull Venture variables\nout = %v [assume coin_weight (beta 1 1) ]\nprint 'coin_weight is: ', out['value']['value']",
     "language": "python",
     "metadata": {},
     "outputs": [
      {
       "output_type": "stream",
       "stream": "stdout",
       "text": "[directive_id: 6].  assume coin_weight   =  0.331358801244 \ncoin_weight is:  0.331358801244\n"
      }
     ],
     "prompt_number": 5
    },
    {
     "cell_type": "code",
     "collapsed": false,
     "input": "# Expand Python code into Venture syntax\nimport numpy as np\nrandint = np.random.randint\nnormal_draw = %v [predict (normal {randint(10**2)} .5) ]\nprint 'normal_draw: ', normal_draw['value']['value']\n\n\n# convert lists from Python to Venture\n\nargs_convert = lambda lst: str(lst)[1:-1].replace(',','')\n%v [predict (list {args_convert(range(3))} ) ]\nNone",
     "language": "python",
     "metadata": {},
     "outputs": [
      {
       "output_type": "stream",
       "stream": "stdout",
       "text": "[directive_id: 7].  predict (normal ... )   =  84.283908649 \nnormal_draw:  84.283908649\n[directive_id: 8].  predict (list ... )   =  [0.0, 1.0, 2.0] "
      },
      {
       "output_type": "stream",
       "stream": "stdout",
       "text": "\n"
      }
     ],
     "prompt_number": 6
    },
    {
     "cell_type": "code",
     "collapsed": false,
     "input": "# We can expand loop variables into %v lines.\nbeta = np.random.beta\nl=randint(100)\n\nfor name in ['coin_'+str(i) for i in range(l,l+4) ]:\n    # create a coin variable and flip it\n    %v [assume {name} {beta(1,1)} ]\n    %v [assume  x{randint(1000)}  (flip {name})  ]\n\n# It doesn't work to capture these variables (because of indentation)",
     "language": "python",
     "metadata": {},
     "outputs": [
      {
       "output_type": "stream",
       "stream": "stdout",
       "text": "[directive_id: 9].  assume coin_12   =  0.857664996896 \n[directive_id: 10].  assume x113   =  True "
      },
      {
       "output_type": "stream",
       "stream": "stdout",
       "text": "\n[directive_id: 11].  assume coin_13   =  0.164115550878 "
      },
      {
       "output_type": "stream",
       "stream": "stdout",
       "text": "\n[directive_id: 12].  assume x57   =  False "
      },
      {
       "output_type": "stream",
       "stream": "stdout",
       "text": "\n[directive_id: 13].  assume coin_14   =  0.690069137257 "
      },
      {
       "output_type": "stream",
       "stream": "stdout",
       "text": "\n[directive_id: 14].  assume x63   =  True "
      },
      {
       "output_type": "stream",
       "stream": "stdout",
       "text": "\n[directive_id: 15].  assume coin_15   =  0.825470662142 "
      },
      {
       "output_type": "stream",
       "stream": "stdout",
       "text": "\n[directive_id: 16].  assume x364   =  False "
      },
      {
       "output_type": "stream",
       "stream": "stdout",
       "text": "\n"
      }
     ],
     "prompt_number": 7
    },
    {
     "cell_type": "code",
     "collapsed": false,
     "input": "%%v\n[assume repeat (lambda (f n) (if (= n 0) (list) \n                              (list (f) (repeat f (- n 1) ) )\n                 ) ) ]",
     "language": "python",
     "metadata": {},
     "outputs": [
      {
       "output_type": "stream",
       "stream": "stdout",
       "text": "[directive_id: 17].  assume repeat   =  sp \n"
      },
      {
       "metadata": {},
       "output_type": "pyout",
       "prompt_number": 8,
       "text": "[{'directive_id': 17, 'value': {'type': 'sp', 'value': 'sp'}}]"
      }
     ],
     "prompt_number": 8
    },
    {
     "cell_type": "code",
     "collapsed": false,
     "input": "ls = %v [assume ls (repeat flip 3) ]",
     "language": "python",
     "metadata": {},
     "outputs": [
      {
       "output_type": "stream",
       "stream": "stdout",
       "text": "[directive_id: 18].  assume ls   =  [True, [True, [True, []]]] \n"
      }
     ],
     "prompt_number": 9
    },
    {
     "cell_type": "code",
     "collapsed": false,
     "input": "",
     "language": "python",
     "metadata": {},
     "outputs": []
    }
   ],
   "metadata": {}
  }
 ]
}