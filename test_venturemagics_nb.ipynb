{
 "metadata": {
  "name": ""
 },
 "nbformat": 3,
 "nbformat_minor": 0,
 "worksheets": [
  {
   "cells": [
    {
     "cell_type": "code",
     "collapsed": false,
     "input": [
      "##\n",
      "%run venturemagics2.py"
     ],
     "language": "python",
     "metadata": {},
     "outputs": [
      {
       "output_type": "stream",
       "stream": "stdout",
       "text": [
        "loaded VentureMagics2 with ripl \"ipy_ripl\"\n"
       ]
      }
     ],
     "prompt_number": 7
    },
    {
     "cell_type": "code",
     "collapsed": false,
     "input": [
      "## Tests for Venturemagics2.py (NOTEBOOK FORM)\n",
      "\n",
      "# output of directive is first arg of %v output\n",
      "a,_ = %v [predict (+ 1.0 2.0)]\n",
      "assert(a==3.0)\n",
      "\n",
      "# ripl should persist \n",
      "%v [assume x1 1.0]\n",
      "b,_ = %v [predict x1]\n",
      "assert(b==1.0)\n",
      "\n",
      "# next cells tests cell magic"
     ],
     "language": "python",
     "metadata": {},
     "outputs": [
      {
       "output_type": "stream",
       "stream": "stdout",
       "text": [
        "[directive_id: 1].  predict (add ... )   =  3.0 \n",
        "[directive_id: 2].  assume x1   =  1.0 "
       ]
      },
      {
       "output_type": "stream",
       "stream": "stdout",
       "text": [
        "\n",
        "[directive_id: 3].  predict x1  =  1.0 "
       ]
      },
      {
       "output_type": "stream",
       "stream": "stdout",
       "text": [
        "\n"
       ]
      }
     ],
     "prompt_number": 1
    },
    {
     "cell_type": "markdown",
     "metadata": {},
     "source": [
      "Test cell magic"
     ]
    },
    {
     "cell_type": "code",
     "collapsed": false,
     "input": [
      "%%v\n",
      "[assume x2 10]\n",
      "[assume x3 x2]\n",
      "[observe (normal x3 0) 5]"
     ],
     "language": "python",
     "metadata": {},
     "outputs": [
      {
       "output_type": "stream",
       "stream": "stdout",
       "text": [
        "[directive_id: 4].  assume x2   =  10.0 \n",
        "[directive_id: 5].  assume x3   =  10.0 \n",
        "[directive_id: 6].  observe (normal ... )    =  5.0 \n"
       ]
      },
      {
       "metadata": {},
       "output_type": "pyout",
       "prompt_number": 2,
       "text": [
        "([10.0, 10.0, 5.0],\n",
        " [{'directive_id': 4, 'value': {'type': 'number', 'value': 10.0}},\n",
        "  {'directive_id': 5, 'value': {'type': 'number', 'value': 10.0}},\n",
        "  {'directive_id': 6}])"
       ]
      }
     ],
     "prompt_number": 2
    },
    {
     "cell_type": "code",
     "collapsed": false,
     "input": [
      "# previous cell magic should have following consequences\n",
      "c,_ = %v [predict x2]\n",
      "d = ipy_ripl.predict('x3')\n",
      "assert(c==10)\n",
      "assert(d==c)"
     ],
     "language": "python",
     "metadata": {},
     "outputs": [
      {
       "output_type": "stream",
       "stream": "stdout",
       "text": [
        "[directive_id: 7].  predict x2  =  10.0 \n"
       ]
      }
     ],
     "prompt_number": 3
    },
    {
     "cell_type": "code",
     "collapsed": false,
     "input": [
      "# ripl can be directly called\n",
      "ipy_ripl.infer(10)\n",
      "ipy_ripl.assume('x5','(beta 1 1)')\n",
      "assert(True==ipy_ripl.predict('true'))\n",
      "assert(ipy_ripl.predict('x5')>0)"
     ],
     "language": "python",
     "metadata": {},
     "outputs": [],
     "prompt_number": 4
    },
    {
     "cell_type": "code",
     "collapsed": false,
     "input": [],
     "language": "python",
     "metadata": {},
     "outputs": []
    }
   ],
   "metadata": {}
  }
 ]
}